{
 "cells": [
  {
   "cell_type": "code",
   "execution_count": 5,
   "metadata": {},
   "outputs": [
    {
     "data": {
      "image/png": "[encoded data removed]",
      "text/plain": [
       "<Figure size 432x288 with 1 Axes>"
      ]
     },
     "metadata": {
      "needs_background": "light"
     },
     "output_type": "display_data"
    }
   ],
   "source": [
    "import cv2\n",
    "import numpy as np\n",
    "import matplotlib.pyplot as plt\n",
    "\n",
    "labels = np.array([1, -1, 1,-1, -1])\n",
    "trainingData = np.matrix([[501, 10], [255, 10], [345,324],[501, 255], [10, 501]], dtype=np.float32)\n",
    "\n",
    "np.random.rand(3, 4)\n",
    "\n",
    "# Train the SVM\n",
    "svm = cv2.ml.SVM_create()\n",
    "svm.setType(cv2.ml.SVM_C_SVC)\n",
    "svm.setKernel(cv2.ml.SVM_LINEAR)\n",
    "svm.setTermCriteria((cv2.TERM_CRITERIA_MAX_ITER, 100, 1e-6))\n",
    "svm.train(trainingData, cv2.ml.ROW_SAMPLE, labels)\n",
    "\n",
    "\n",
    "# Data for visual representation\n",
    "width = 512\n",
    "height = 512\n",
    "image = np.zeros((height, width, 3), dtype=np.uint8)\n",
    "# Show the decision regions given by the SVM\n",
    "green = (0,255,0)\n",
    "blue = (0,0,255)\n",
    "for i in range(image.shape[0]):\n",
    "    for j in range(image.shape[1]):\n",
    "        sampleMat = np.matrix([[j,i]], dtype=np.float32)\n",
    "        response = svm.predict(sampleMat)[1]\n",
    "        if response == 1:\n",
    "            image[i,j] = green\n",
    "        elif response == -1:\n",
    "            image[i,j] = blue\n",
    "# Show the training data\n",
    "thickness = -1\n",
    "cv2.circle(image, (501,  10), 5, (  0,   0,   0), thickness)\n",
    "cv2.circle(image, (255,  10), 5, (255, 255, 255), thickness)\n",
    "cv2.circle(image, (345, 324), 5, (  0,   0,   0), thickness)\n",
    "cv2.circle(image, (501, 255), 5, (255, 255, 255), thickness)\n",
    "cv2.circle(image, ( 10, 501), 5, (255, 255, 255), thickness)\n",
    "# Show support vectors\n",
    "thickness = 2\n",
    "sv = svm.getUncompressedSupportVectors()\n",
    "for i in range(sv.shape[0]):\n",
    "    cv2.circle(image, (int(sv[i,0]), int(sv[i,1])), 6, (128, 128, 128), thickness)\n",
    "\n",
    "plt.imshow(image)\n",
    "plt.show()\n"
   ]
  },
  {
   "cell_type": "code",
   "execution_count": 13,
   "metadata": {},
   "outputs": [
    {
     "name": "stdout",
     "output_type": "stream",
     "text": [
      "Starting training process\n"
     ]
    },
    {
     "ename": "error",
     "evalue": "OpenCV(4.5.5) D:\\a\\opencv-python\\opencv-python\\opencv\\modules\\ml\\src\\svm.cpp:1319: error: (-211:One of the arguments' values is out of range) The kernel parameter <degree> must be positive in function 'cv::ml::SVMImpl::checkParams'\n",
     "output_type": "error",
     "traceback": [
      "\u001b[1;31m---------------------------------------------------------------------------\u001b[0m",
      "\u001b[1;31merror\u001b[0m                                     Traceback (most recent call last)",
      "\u001b[1;32me:\\Chiranjeev\\opencv\\opencv-course\\machine-learning\\support-vector-machine.ipynb Cell 2\u001b[0m in \u001b[0;36m<cell line: 51>\u001b[1;34m()\u001b[0m\n\u001b[0;32m     <a href='vscode-notebook-cell:/e%3A/Chiranjeev/opencv/opencv-course/machine-learning/support-vector-machine.ipynb#ch0000001?line=48'>49</a>\u001b[0m svm\u001b[39m.\u001b[39msetTermCriteria((cv\u001b[39m.\u001b[39mTERM_CRITERIA_MAX_ITER, \u001b[39mint\u001b[39m(\u001b[39m1e7\u001b[39m), \u001b[39m1e-6\u001b[39m))\n\u001b[0;32m     <a href='vscode-notebook-cell:/e%3A/Chiranjeev/opencv/opencv-course/machine-learning/support-vector-machine.ipynb#ch0000001?line=49'>50</a>\u001b[0m \u001b[39m#------------------------ 3. Train the svm ----------------------------------------------------\u001b[39;00m\n\u001b[1;32m---> <a href='vscode-notebook-cell:/e%3A/Chiranjeev/opencv/opencv-course/machine-learning/support-vector-machine.ipynb#ch0000001?line=50'>51</a>\u001b[0m svm\u001b[39m.\u001b[39;49mtrain(trainData, cv\u001b[39m.\u001b[39;49mml\u001b[39m.\u001b[39;49mROW_SAMPLE, labels)\n\u001b[0;32m     <a href='vscode-notebook-cell:/e%3A/Chiranjeev/opencv/opencv-course/machine-learning/support-vector-machine.ipynb#ch0000001?line=51'>52</a>\u001b[0m \u001b[39mprint\u001b[39m(\u001b[39m'\u001b[39m\u001b[39mFinished training process\u001b[39m\u001b[39m'\u001b[39m)\n\u001b[0;32m     <a href='vscode-notebook-cell:/e%3A/Chiranjeev/opencv/opencv-course/machine-learning/support-vector-machine.ipynb#ch0000001?line=52'>53</a>\u001b[0m \u001b[39m#------------------------ 4. Show the decision regions ----------------------------------------\u001b[39;00m\n",
      "\u001b[1;31merror\u001b[0m: OpenCV(4.5.5) D:\\a\\opencv-python\\opencv-python\\opencv\\modules\\ml\\src\\svm.cpp:1319: error: (-211:One of the arguments' values is out of range) The kernel parameter <degree> must be positive in function 'cv::ml::SVMImpl::checkParams'\n"
     ]
    }
   ],
   "source": [
    "from __future__ import print_function\n",
    "import cv2 as cv\n",
    "import numpy as np\n",
    "import random as rng\n",
    "NTRAINING_SAMPLES = 100 # Number of training samples per class\n",
    "FRAC_LINEAR_SEP = 0.9   # Fraction of samples which compose the linear separable part\n",
    "# Data for visual representation\n",
    "WIDTH = 512\n",
    "HEIGHT = 512\n",
    "I = np.zeros((HEIGHT, WIDTH, 3), dtype=np.uint8)\n",
    "# --------------------- 1. Set up training data randomly ---------------------------------------\n",
    "trainData = np.empty((2*NTRAINING_SAMPLES, 2), dtype=np.float32)\n",
    "labels = np.empty((2*NTRAINING_SAMPLES, 1), dtype=np.int32)\n",
    "rng.seed(100) # Random value generation class\n",
    "# Set up the linearly separable part of the training data\n",
    "nLinearSamples = int(FRAC_LINEAR_SEP * NTRAINING_SAMPLES)\n",
    "trainClass = trainData[0:nLinearSamples,:]\n",
    "# The x coordinate of the points is in [0, 0.4)\n",
    "c = trainClass[:,0:1]\n",
    "c[:] = np.random.uniform(0.0, 0.4 * WIDTH, c.shape)\n",
    "# The y coordinate of the points is in [0, 1)\n",
    "c = trainClass[:,1:2]\n",
    "c[:] = np.random.uniform(0.0, HEIGHT, c.shape)\n",
    "# Generate random points for the class 2\n",
    "trainClass = trainData[2*NTRAINING_SAMPLES-nLinearSamples:2*NTRAINING_SAMPLES,:]\n",
    "# The x coordinate of the points is in [0.6, 1]\n",
    "c = trainClass[:,0:1]\n",
    "c[:] = np.random.uniform(0.6*WIDTH, WIDTH, c.shape)\n",
    "# The y coordinate of the points is in [0, 1)\n",
    "c = trainClass[:,1:2]\n",
    "c[:] = np.random.uniform(0.0, HEIGHT, c.shape)\n",
    "#------------------ Set up the non-linearly separable part of the training data ---------------\n",
    "trainClass = trainData[nLinearSamples:2*NTRAINING_SAMPLES-nLinearSamples,:]\n",
    "# The x coordinate of the points is in [0.4, 0.6)\n",
    "c = trainClass[:,0:1]\n",
    "c[:] = np.random.uniform(0.4*WIDTH, 0.6*WIDTH, c.shape)\n",
    "# The y coordinate of the points is in [0, 1)\n",
    "c = trainClass[:,1:2]\n",
    "c[:] = np.random.uniform(0.0, HEIGHT, c.shape)\n",
    "#------------------------- Set up the labels for the classes ---------------------------------\n",
    "labels[0:NTRAINING_SAMPLES,:] = 1                   # Class 1\n",
    "labels[NTRAINING_SAMPLES:2*NTRAINING_SAMPLES,:] = 2 # Class 2\n",
    "#------------------------ 2. Set up the support vector machines parameters --------------------\n",
    "print('Starting training process')\n",
    "svm = cv.ml.SVM_create()\n",
    "svm.setType(cv.ml.SVM_C_SVC)\n",
    "svm.setC(0.1)\n",
    "svm.setKernel(cv.ml.SVM_LINEAR)\n",
    "svm.setTermCriteria((cv.TERM_CRITERIA_MAX_ITER, int(1e7), 1e-6))\n",
    "#------------------------ 3. Train the svm ----------------------------------------------------\n",
    "svm.train(trainData, cv.ml.ROW_SAMPLE, labels)\n",
    "print('Finished training process')\n",
    "#------------------------ 4. Show the decision regions ----------------------------------------\n",
    "green = (0,100,0)\n",
    "blue = (100,0,0)\n",
    "for i in range(I.shape[0]):\n",
    "    for j in range(I.shape[1]):\n",
    "        sampleMat = np.matrix([[j,i]], dtype=np.float32)\n",
    "        response = svm.predict(sampleMat)[1]\n",
    "        if response == 1:\n",
    "            I[i,j] = green\n",
    "        elif response == 2:\n",
    "            I[i,j] = blue\n",
    "#----------------------- 5. Show the training data --------------------------------------------\n",
    "thick = -1\n",
    "# Class 1\n",
    "for i in range(NTRAINING_SAMPLES):\n",
    "    px = trainData[i,0]\n",
    "    py = trainData[i,1]\n",
    "    cv.circle(I, (int(px), int(py)), 3, (0, 255, 0), thick)\n",
    "# Class 2\n",
    "for i in range(NTRAINING_SAMPLES, 2*NTRAINING_SAMPLES):\n",
    "    px = trainData[i,0]\n",
    "    py = trainData[i,1]\n",
    "    cv.circle(I, (int(px), int(py)), 3, (255, 0, 0), thick)\n",
    "#------------------------- 6. Show support vectors --------------------------------------------\n",
    "thick = 2\n",
    "sv = svm.getUncompressedSupportVectors()\n",
    "for i in range(sv.shape[0]):\n",
    "    cv.circle(I, (int(sv[i,0]), int(sv[i,1])), 6, (128, 128, 128), thick)\n",
    "\n",
    "plt.figure(figsize=(10,10))\n",
    "plt.imshow(I)\n",
    "plt.show()"
   ]
  }
 ],
 "metadata": {
  "kernelspec": {
   "display_name": "Python 3.10.4 64-bit",
   "language": "python",
   "name": "python3"
  },
  "language_info": {
   "codemirror_mode": {
    "name": "ipython",
    "version": 3
   },
   "file_extension": ".py",
   "mimetype": "text/x-python",
   "name": "python",
   "nbconvert_exporter": "python",
   "pygments_lexer": "ipython3",
   "version": "3.10.4"
  },
  "orig_nbformat": 4,
  "vscode": {
   "interpreter": {
    "hash": "34318cfe4829af221e5477cadc97d20e2fe9ea9ad002c04600364c092214ecf0"
   }
  }
 },
 "nbformat": 4,
 "nbformat_minor": 2
}
